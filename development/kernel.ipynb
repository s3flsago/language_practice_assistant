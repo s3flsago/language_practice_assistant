{
 "cells": [
  {
   "cell_type": "code",
   "execution_count": 1,
   "metadata": {},
   "outputs": [],
   "source": [
    "import logging\n",
    "import sys\n",
    "\n",
    "logging.basicConfig(\n",
    "   level=logging.INFO,\n",
    "   format='%(filename)s:%(lineno)d %(asctime)s %(levelname)s:%(message)s',\n",
    ")\n",
    "sys.path.append(\"..\")\n",
    "\n",
    "from src.language_practice_assistant.kernel import SemanticKernel, Verbs\n",
    "\n",
    "import nest_asyncio\n",
    "\n",
    "nest_asyncio.apply()\n",
    "\n",
    "%load_ext autoreload\n",
    "%autoreload 2"
   ]
  },
  {
   "cell_type": "code",
   "execution_count": 3,
   "metadata": {},
   "outputs": [
    {
     "name": "stdout",
     "output_type": "stream",
     "text": [
      "['drive', 'walk', 'fly']\n"
     ]
    },
    {
     "name": "stderr",
     "output_type": "stream",
     "text": [
      "_client.py:1773 2024-08-03 17:07:22,107 INFO:HTTP Request: POST https://api.openai.com/v1/chat/completions \"HTTP/1.1 200 OK\"\n",
      "open_ai_handler.py:84 2024-08-03 17:07:22,109 INFO:OpenAI usage: CompletionUsage(completion_tokens=13, prompt_tokens=49, total_tokens=62)\n",
      "open_ai_chat_completion_base.py:113 2024-08-03 17:07:22,110 INFO:processing 1 tool calls in parallel.\n",
      "kernel.py:380 2024-08-03 17:07:22,111 INFO:Calling verbs-get_verbs function with args: {}\n",
      "_client.py:1773 2024-08-03 17:07:23,776 INFO:HTTP Request: POST https://api.openai.com/v1/chat/completions \"HTTP/1.1 200 OK\"\n",
      "open_ai_handler.py:84 2024-08-03 17:07:23,782 INFO:OpenAI usage: CompletionUsage(completion_tokens=20, prompt_tokens=81, total_tokens=101)\n",
      "kernel.py:108 2024-08-03 17:07:23,784 INFO:\tuser:\t\tWhat verbs can be learned?\n",
      "kernel.py:108 2024-08-03 17:07:23,785 INFO:\tassistant:\t\tverbs-get_verbs({})\n",
      "kernel.py:108 2024-08-03 17:07:23,786 INFO:\ttool:\t\t['drive', 'walk', 'fly']\n",
      "kernel.py:108 2024-08-03 17:07:23,787 INFO:\tassistant:\t\tThe verbs that can be learned are: **drive**, **walk**, and **fly**.\n"
     ]
    },
    {
     "name": "stdout",
     "output_type": "stream",
     "text": [
      "The verbs that can be learned are: **drive**, **walk**, and **fly**.\n"
     ]
    }
   ],
   "source": [
    "verbs_plugin = Verbs()\n",
    "print(verbs_plugin.get_verbs())\n",
    "\n",
    "kernel = SemanticKernel()\n",
    "init_prompt: str = \"What verbs can be learned?\"\n",
    "answer = kernel.run(init_prompt)\n",
    "print(answer)"
   ]
  },
  {
   "cell_type": "code",
   "execution_count": null,
   "metadata": {},
   "outputs": [],
   "source": []
  }
 ],
 "metadata": {
  "kernelspec": {
   "display_name": "lang_venv",
   "language": "python",
   "name": "python3"
  },
  "language_info": {
   "codemirror_mode": {
    "name": "ipython",
    "version": 3
   },
   "file_extension": ".py",
   "mimetype": "text/x-python",
   "name": "python",
   "nbconvert_exporter": "python",
   "pygments_lexer": "ipython3",
   "version": "3.10.12"
  }
 },
 "nbformat": 4,
 "nbformat_minor": 2
}
